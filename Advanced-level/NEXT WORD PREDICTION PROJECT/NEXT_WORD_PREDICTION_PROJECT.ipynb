{
  "nbformat": 4,
  "nbformat_minor": 0,
  "metadata": {
    "colab": {
      "name": "NEXT WORD PREDICTION PROJECT.ipynb",
      "provenance": [],
      "collapsed_sections": []
    },
    "kernelspec": {
      "name": "python3",
      "display_name": "Python 3"
    },
    "language_info": {
      "name": "python"
    }
  },
  "cells": [
    {
      "cell_type": "markdown",
      "metadata": {
        "id": "1alHIeTlL8w8"
      },
      "source": [
        "NAME- DEVLINA PAL\n",
        "\n",
        "LETSGROWMORE INTERNSHIP ADVANCED LEVEL TASK-2"
      ]
    },
    {
      "cell_type": "code",
      "metadata": {
        "id": "h6eGpFM8LDvO"
      },
      "source": [
        "import numpy as np\n",
        "from nltk.tokenize import RegexpTokenizer\n",
        "from keras.models import Sequential, load_model\n",
        "from keras.layers import LSTM\n",
        "from keras.layers.core import Dense, Activation\n",
        "from tensorflow.keras.optimizers import RMSprop\n",
        "import matplotlib.pyplot as plt\n",
        "import pickle\n",
        "import heapq"
      ],
      "execution_count": 2,
      "outputs": []
    },
    {
      "cell_type": "code",
      "metadata": {
        "colab": {
          "base_uri": "https://localhost:8080/"
        },
        "id": "rVMdLILxN9M5",
        "outputId": "35e80489-608f-4856-8ff9-11af7181f13e"
      },
      "source": [
        "##Loading the dataset\n",
        "path = '1661-0.txt'\n",
        "text = open(path).read().lower()\n",
        "print('corpus length:', len(text))"
      ],
      "execution_count": 3,
      "outputs": [
        {
          "output_type": "stream",
          "name": "stdout",
          "text": [
            "corpus length: 581888\n"
          ]
        }
      ]
    },
    {
      "cell_type": "code",
      "metadata": {
        "id": "RwwNRmgHOAz4"
      },
      "source": [
        "##Splitting the dataset into each word in order but without the presence of some special characters.\n",
        "tokenizer = RegexpTokenizer(r'\\w+')\n",
        "words = tokenizer.tokenize(text)"
      ],
      "execution_count": 8,
      "outputs": []
    },
    {
      "cell_type": "code",
      "metadata": {
        "colab": {
          "base_uri": "https://localhost:8080/"
        },
        "id": "hrpZZoWePGQZ",
        "outputId": "777607d2-dbc8-497a-8aec-fd15283c989f"
      },
      "source": [
        "words"
      ],
      "execution_count": 9,
      "outputs": [
        {
          "output_type": "execute_result",
          "data": {
            "text/plain": [
              "['project',\n",
              " 'gutenberg',\n",
              " 's',\n",
              " 'the',\n",
              " 'adventures',\n",
              " 'of',\n",
              " 'sherlock',\n",
              " 'holmes',\n",
              " 'by',\n",
              " 'arthur',\n",
              " 'conan',\n",
              " 'doyle',\n",
              " 'this',\n",
              " 'ebook',\n",
              " 'is',\n",
              " 'for',\n",
              " 'the',\n",
              " 'use',\n",
              " 'of',\n",
              " 'anyone',\n",
              " 'anywhere',\n",
              " 'at',\n",
              " 'no',\n",
              " 'cost',\n",
              " 'and',\n",
              " 'with',\n",
              " 'almost',\n",
              " 'no',\n",
              " 'restrictions',\n",
              " 'whatsoever',\n",
              " 'you',\n",
              " 'may',\n",
              " 'copy',\n",
              " 'it',\n",
              " 'give',\n",
              " 'it',\n",
              " 'away',\n",
              " 'or',\n",
              " 're',\n",
              " 'use',\n",
              " 'it',\n",
              " 'under',\n",
              " 'the',\n",
              " 'terms',\n",
              " 'of',\n",
              " 'the',\n",
              " 'project',\n",
              " 'gutenberg',\n",
              " 'license',\n",
              " 'included',\n",
              " 'with',\n",
              " 'this',\n",
              " 'ebook',\n",
              " 'or',\n",
              " 'online',\n",
              " 'at',\n",
              " 'www',\n",
              " 'gutenberg',\n",
              " 'net',\n",
              " 'title',\n",
              " 'the',\n",
              " 'adventures',\n",
              " 'of',\n",
              " 'sherlock',\n",
              " 'holmes',\n",
              " 'author',\n",
              " 'arthur',\n",
              " 'conan',\n",
              " 'doyle',\n",
              " 'release',\n",
              " 'date',\n",
              " 'november',\n",
              " '29',\n",
              " '2002',\n",
              " 'ebook',\n",
              " '1661',\n",
              " 'last',\n",
              " 'updated',\n",
              " 'may',\n",
              " '20',\n",
              " '2019',\n",
              " 'language',\n",
              " 'english',\n",
              " 'character',\n",
              " 'set',\n",
              " 'encoding',\n",
              " 'utf',\n",
              " '8',\n",
              " 'start',\n",
              " 'of',\n",
              " 'this',\n",
              " 'project',\n",
              " 'gutenberg',\n",
              " 'ebook',\n",
              " 'the',\n",
              " 'adventures',\n",
              " 'of',\n",
              " 'sherlock',\n",
              " 'holmes',\n",
              " 'produced',\n",
              " 'by',\n",
              " 'an',\n",
              " 'anonymous',\n",
              " 'project',\n",
              " 'gutenberg',\n",
              " 'volunteer',\n",
              " 'and',\n",
              " 'jose',\n",
              " 'menendez',\n",
              " 'cover',\n",
              " 'the',\n",
              " 'adventures',\n",
              " 'of',\n",
              " 'sherlock',\n",
              " 'holmes',\n",
              " 'by',\n",
              " 'arthur',\n",
              " 'conan',\n",
              " 'doyle',\n",
              " 'contents',\n",
              " 'i',\n",
              " 'a',\n",
              " 'scandal',\n",
              " 'in',\n",
              " 'bohemia',\n",
              " 'ii',\n",
              " 'the',\n",
              " 'red',\n",
              " 'headed',\n",
              " 'league',\n",
              " 'iii',\n",
              " 'a',\n",
              " 'case',\n",
              " 'of',\n",
              " 'identity',\n",
              " 'iv',\n",
              " 'the',\n",
              " 'boscombe',\n",
              " 'valley',\n",
              " 'mystery',\n",
              " 'v',\n",
              " 'the',\n",
              " 'five',\n",
              " 'orange',\n",
              " 'pips',\n",
              " 'vi',\n",
              " 'the',\n",
              " 'man',\n",
              " 'with',\n",
              " 'the',\n",
              " 'twisted',\n",
              " 'lip',\n",
              " 'vii',\n",
              " 'the',\n",
              " 'adventure',\n",
              " 'of',\n",
              " 'the',\n",
              " 'blue',\n",
              " 'carbuncle',\n",
              " 'viii',\n",
              " 'the',\n",
              " 'adventure',\n",
              " 'of',\n",
              " 'the',\n",
              " 'speckled',\n",
              " 'band',\n",
              " 'ix',\n",
              " 'the',\n",
              " 'adventure',\n",
              " 'of',\n",
              " 'the',\n",
              " 'engineer',\n",
              " 's',\n",
              " 'thumb',\n",
              " 'x',\n",
              " 'the',\n",
              " 'adventure',\n",
              " 'of',\n",
              " 'the',\n",
              " 'noble',\n",
              " 'bachelor',\n",
              " 'xi',\n",
              " 'the',\n",
              " 'adventure',\n",
              " 'of',\n",
              " 'the',\n",
              " 'beryl',\n",
              " 'coronet',\n",
              " 'xii',\n",
              " 'the',\n",
              " 'adventure',\n",
              " 'of',\n",
              " 'the',\n",
              " 'copper',\n",
              " 'beeches',\n",
              " 'i',\n",
              " 'a',\n",
              " 'scandal',\n",
              " 'in',\n",
              " 'bohemia',\n",
              " 'i',\n",
              " 'to',\n",
              " 'sherlock',\n",
              " 'holmes',\n",
              " 'she',\n",
              " 'is',\n",
              " 'always',\n",
              " '_the_',\n",
              " 'woman',\n",
              " 'i',\n",
              " 'have',\n",
              " 'seldom',\n",
              " 'heard',\n",
              " 'him',\n",
              " 'mention',\n",
              " 'her',\n",
              " 'under',\n",
              " 'any',\n",
              " 'other',\n",
              " 'name',\n",
              " 'in',\n",
              " 'his',\n",
              " 'eyes',\n",
              " 'she',\n",
              " 'eclipses',\n",
              " 'and',\n",
              " 'predominates',\n",
              " 'the',\n",
              " 'whole',\n",
              " 'of',\n",
              " 'her',\n",
              " 'sex',\n",
              " 'it',\n",
              " 'was',\n",
              " 'not',\n",
              " 'that',\n",
              " 'he',\n",
              " 'felt',\n",
              " 'any',\n",
              " 'emotion',\n",
              " 'akin',\n",
              " 'to',\n",
              " 'love',\n",
              " 'for',\n",
              " 'irene',\n",
              " 'adler',\n",
              " 'all',\n",
              " 'emotions',\n",
              " 'and',\n",
              " 'that',\n",
              " 'one',\n",
              " 'particularly',\n",
              " 'were',\n",
              " 'abhorrent',\n",
              " 'to',\n",
              " 'his',\n",
              " 'cold',\n",
              " 'precise',\n",
              " 'but',\n",
              " 'admirably',\n",
              " 'balanced',\n",
              " 'mind',\n",
              " 'he',\n",
              " 'was',\n",
              " 'i',\n",
              " 'take',\n",
              " 'it',\n",
              " 'the',\n",
              " 'most',\n",
              " 'perfect',\n",
              " 'reasoning',\n",
              " 'and',\n",
              " 'observing',\n",
              " 'machine',\n",
              " 'that',\n",
              " 'the',\n",
              " 'world',\n",
              " 'has',\n",
              " 'seen',\n",
              " 'but',\n",
              " 'as',\n",
              " 'a',\n",
              " 'lover',\n",
              " 'he',\n",
              " 'would',\n",
              " 'have',\n",
              " 'placed',\n",
              " 'himself',\n",
              " 'in',\n",
              " 'a',\n",
              " 'false',\n",
              " 'position',\n",
              " 'he',\n",
              " 'never',\n",
              " 'spoke',\n",
              " 'of',\n",
              " 'the',\n",
              " 'softer',\n",
              " 'passions',\n",
              " 'save',\n",
              " 'with',\n",
              " 'a',\n",
              " 'gibe',\n",
              " 'and',\n",
              " 'a',\n",
              " 'sneer',\n",
              " 'they',\n",
              " 'were',\n",
              " 'admirable',\n",
              " 'things',\n",
              " 'for',\n",
              " 'the',\n",
              " 'observer',\n",
              " 'excellent',\n",
              " 'for',\n",
              " 'drawing',\n",
              " 'the',\n",
              " 'veil',\n",
              " 'from',\n",
              " 'men',\n",
              " 's',\n",
              " 'motives',\n",
              " 'and',\n",
              " 'actions',\n",
              " 'but',\n",
              " 'for',\n",
              " 'the',\n",
              " 'trained',\n",
              " 'reasoner',\n",
              " 'to',\n",
              " 'admit',\n",
              " 'such',\n",
              " 'intrusions',\n",
              " 'into',\n",
              " 'his',\n",
              " 'own',\n",
              " 'delicate',\n",
              " 'and',\n",
              " 'finely',\n",
              " 'adjusted',\n",
              " 'temperament',\n",
              " 'was',\n",
              " 'to',\n",
              " 'introduce',\n",
              " 'a',\n",
              " 'distracting',\n",
              " 'factor',\n",
              " 'which',\n",
              " 'might',\n",
              " 'throw',\n",
              " 'a',\n",
              " 'doubt',\n",
              " 'upon',\n",
              " 'all',\n",
              " 'his',\n",
              " 'mental',\n",
              " 'results',\n",
              " 'grit',\n",
              " 'in',\n",
              " 'a',\n",
              " 'sensitive',\n",
              " 'instrument',\n",
              " 'or',\n",
              " 'a',\n",
              " 'crack',\n",
              " 'in',\n",
              " 'one',\n",
              " 'of',\n",
              " 'his',\n",
              " 'own',\n",
              " 'high',\n",
              " 'power',\n",
              " 'lenses',\n",
              " 'would',\n",
              " 'not',\n",
              " 'be',\n",
              " 'more',\n",
              " 'disturbing',\n",
              " 'than',\n",
              " 'a',\n",
              " 'strong',\n",
              " 'emotion',\n",
              " 'in',\n",
              " 'a',\n",
              " 'nature',\n",
              " 'such',\n",
              " 'as',\n",
              " 'his',\n",
              " 'and',\n",
              " 'yet',\n",
              " 'there',\n",
              " 'was',\n",
              " 'but',\n",
              " 'one',\n",
              " 'woman',\n",
              " 'to',\n",
              " 'him',\n",
              " 'and',\n",
              " 'that',\n",
              " 'woman',\n",
              " 'was',\n",
              " 'the',\n",
              " 'late',\n",
              " 'irene',\n",
              " 'adler',\n",
              " 'of',\n",
              " 'dubious',\n",
              " 'and',\n",
              " 'questionable',\n",
              " 'memory',\n",
              " 'i',\n",
              " 'had',\n",
              " 'seen',\n",
              " 'little',\n",
              " 'of',\n",
              " 'holmes',\n",
              " 'lately',\n",
              " 'my',\n",
              " 'marriage',\n",
              " 'had',\n",
              " 'drifted',\n",
              " 'us',\n",
              " 'away',\n",
              " 'from',\n",
              " 'each',\n",
              " 'other',\n",
              " 'my',\n",
              " 'own',\n",
              " 'complete',\n",
              " 'happiness',\n",
              " 'and',\n",
              " 'the',\n",
              " 'home',\n",
              " 'centred',\n",
              " 'interests',\n",
              " 'which',\n",
              " 'rise',\n",
              " 'up',\n",
              " 'around',\n",
              " 'the',\n",
              " 'man',\n",
              " 'who',\n",
              " 'first',\n",
              " 'finds',\n",
              " 'himself',\n",
              " 'master',\n",
              " 'of',\n",
              " 'his',\n",
              " 'own',\n",
              " 'establishment',\n",
              " 'were',\n",
              " 'sufficient',\n",
              " 'to',\n",
              " 'absorb',\n",
              " 'all',\n",
              " 'my',\n",
              " 'attention',\n",
              " 'while',\n",
              " 'holmes',\n",
              " 'who',\n",
              " 'loathed',\n",
              " 'every',\n",
              " 'form',\n",
              " 'of',\n",
              " 'society',\n",
              " 'with',\n",
              " 'his',\n",
              " 'whole',\n",
              " 'bohemian',\n",
              " 'soul',\n",
              " 'remained',\n",
              " 'in',\n",
              " 'our',\n",
              " 'lodgings',\n",
              " 'in',\n",
              " 'baker',\n",
              " 'street',\n",
              " 'buried',\n",
              " 'among',\n",
              " 'his',\n",
              " 'old',\n",
              " 'books',\n",
              " 'and',\n",
              " 'alternating',\n",
              " 'from',\n",
              " 'week',\n",
              " 'to',\n",
              " 'week',\n",
              " 'between',\n",
              " 'cocaine',\n",
              " 'and',\n",
              " 'ambition',\n",
              " 'the',\n",
              " 'drowsiness',\n",
              " 'of',\n",
              " 'the',\n",
              " 'drug',\n",
              " 'and',\n",
              " 'the',\n",
              " 'fierce',\n",
              " 'energy',\n",
              " 'of',\n",
              " 'his',\n",
              " 'own',\n",
              " 'keen',\n",
              " 'nature',\n",
              " 'he',\n",
              " 'was',\n",
              " 'still',\n",
              " 'as',\n",
              " 'ever',\n",
              " 'deeply',\n",
              " 'attracted',\n",
              " 'by',\n",
              " 'the',\n",
              " 'study',\n",
              " 'of',\n",
              " 'crime',\n",
              " 'and',\n",
              " 'occupied',\n",
              " 'his',\n",
              " 'immense',\n",
              " 'faculties',\n",
              " 'and',\n",
              " 'extraordinary',\n",
              " 'powers',\n",
              " 'of',\n",
              " 'observation',\n",
              " 'in',\n",
              " 'following',\n",
              " 'out',\n",
              " 'those',\n",
              " 'clues',\n",
              " 'and',\n",
              " 'clearing',\n",
              " 'up',\n",
              " 'those',\n",
              " 'mysteries',\n",
              " 'which',\n",
              " 'had',\n",
              " 'been',\n",
              " 'abandoned',\n",
              " 'as',\n",
              " 'hopeless',\n",
              " 'by',\n",
              " 'the',\n",
              " 'official',\n",
              " 'police',\n",
              " 'from',\n",
              " 'time',\n",
              " 'to',\n",
              " 'time',\n",
              " 'i',\n",
              " 'heard',\n",
              " 'some',\n",
              " 'vague',\n",
              " 'account',\n",
              " 'of',\n",
              " 'his',\n",
              " 'doings',\n",
              " 'of',\n",
              " 'his',\n",
              " 'summons',\n",
              " 'to',\n",
              " 'odessa',\n",
              " 'in',\n",
              " 'the',\n",
              " 'case',\n",
              " 'of',\n",
              " 'the',\n",
              " 'trepoff',\n",
              " 'murder',\n",
              " 'of',\n",
              " 'his',\n",
              " 'clearing',\n",
              " 'up',\n",
              " 'of',\n",
              " 'the',\n",
              " 'singular',\n",
              " 'tragedy',\n",
              " 'of',\n",
              " 'the',\n",
              " 'atkinson',\n",
              " 'brothers',\n",
              " 'at',\n",
              " 'trincomalee',\n",
              " 'and',\n",
              " 'finally',\n",
              " 'of',\n",
              " 'the',\n",
              " 'mission',\n",
              " 'which',\n",
              " 'he',\n",
              " 'had',\n",
              " 'accomplished',\n",
              " 'so',\n",
              " 'delicately',\n",
              " 'and',\n",
              " 'successfully',\n",
              " 'for',\n",
              " 'the',\n",
              " 'reigning',\n",
              " 'family',\n",
              " 'of',\n",
              " 'holland',\n",
              " 'beyond',\n",
              " 'these',\n",
              " 'signs',\n",
              " 'of',\n",
              " 'his',\n",
              " 'activity',\n",
              " 'however',\n",
              " 'which',\n",
              " 'i',\n",
              " 'merely',\n",
              " 'shared',\n",
              " 'with',\n",
              " 'all',\n",
              " 'the',\n",
              " 'readers',\n",
              " 'of',\n",
              " 'the',\n",
              " 'daily',\n",
              " 'press',\n",
              " 'i',\n",
              " 'knew',\n",
              " 'little',\n",
              " 'of',\n",
              " 'my',\n",
              " 'former',\n",
              " 'friend',\n",
              " 'and',\n",
              " 'companion',\n",
              " 'one',\n",
              " 'night',\n",
              " 'it',\n",
              " 'was',\n",
              " 'on',\n",
              " 'the',\n",
              " 'twentieth',\n",
              " 'of',\n",
              " 'march',\n",
              " '1888',\n",
              " 'i',\n",
              " 'was',\n",
              " 'returning',\n",
              " 'from',\n",
              " 'a',\n",
              " 'journey',\n",
              " 'to',\n",
              " 'a',\n",
              " 'patient',\n",
              " 'for',\n",
              " 'i',\n",
              " 'had',\n",
              " 'now',\n",
              " 'returned',\n",
              " 'to',\n",
              " 'civil',\n",
              " 'practice',\n",
              " 'when',\n",
              " 'my',\n",
              " 'way',\n",
              " 'led',\n",
              " 'me',\n",
              " 'through',\n",
              " 'baker',\n",
              " 'street',\n",
              " 'as',\n",
              " 'i',\n",
              " 'passed',\n",
              " 'the',\n",
              " 'well',\n",
              " 'remembered',\n",
              " 'door',\n",
              " 'which',\n",
              " 'must',\n",
              " 'always',\n",
              " 'be',\n",
              " 'associated',\n",
              " 'in',\n",
              " 'my',\n",
              " 'mind',\n",
              " 'with',\n",
              " 'my',\n",
              " 'wooing',\n",
              " 'and',\n",
              " 'with',\n",
              " 'the',\n",
              " 'dark',\n",
              " 'incidents',\n",
              " 'of',\n",
              " 'the',\n",
              " 'study',\n",
              " 'in',\n",
              " 'scarlet',\n",
              " 'i',\n",
              " 'was',\n",
              " 'seized',\n",
              " 'with',\n",
              " 'a',\n",
              " 'keen',\n",
              " 'desire',\n",
              " 'to',\n",
              " 'see',\n",
              " 'holmes',\n",
              " 'again',\n",
              " 'and',\n",
              " 'to',\n",
              " 'know',\n",
              " 'how',\n",
              " 'he',\n",
              " 'was',\n",
              " 'employing',\n",
              " 'his',\n",
              " 'extraordinary',\n",
              " 'powers',\n",
              " 'his',\n",
              " 'rooms',\n",
              " 'were',\n",
              " 'brilliantly',\n",
              " 'lit',\n",
              " 'and',\n",
              " 'even',\n",
              " 'as',\n",
              " 'i',\n",
              " 'looked',\n",
              " 'up',\n",
              " 'i',\n",
              " 'saw',\n",
              " 'his',\n",
              " 'tall',\n",
              " 'spare',\n",
              " 'figure',\n",
              " 'pass',\n",
              " 'twice',\n",
              " 'in',\n",
              " 'a',\n",
              " 'dark',\n",
              " 'silhouette',\n",
              " 'against',\n",
              " 'the',\n",
              " 'blind',\n",
              " 'he',\n",
              " 'was',\n",
              " 'pacing',\n",
              " 'the',\n",
              " 'room',\n",
              " 'swiftly',\n",
              " 'eagerly',\n",
              " 'with',\n",
              " 'his',\n",
              " 'head',\n",
              " 'sunk',\n",
              " 'upon',\n",
              " 'his',\n",
              " 'chest',\n",
              " 'and',\n",
              " 'his',\n",
              " 'hands',\n",
              " 'clasped',\n",
              " 'behind',\n",
              " 'him',\n",
              " 'to',\n",
              " 'me',\n",
              " 'who',\n",
              " 'knew',\n",
              " 'his',\n",
              " 'every',\n",
              " 'mood',\n",
              " 'and',\n",
              " 'habit',\n",
              " 'his',\n",
              " 'attitude',\n",
              " 'and',\n",
              " 'manner',\n",
              " 'told',\n",
              " 'their',\n",
              " 'own',\n",
              " 'story',\n",
              " 'he',\n",
              " 'was',\n",
              " 'at',\n",
              " 'work',\n",
              " 'again',\n",
              " 'he',\n",
              " 'had',\n",
              " 'risen',\n",
              " 'out',\n",
              " 'of',\n",
              " 'his',\n",
              " 'drug',\n",
              " 'created',\n",
              " 'dreams',\n",
              " 'and',\n",
              " 'was',\n",
              " 'hot',\n",
              " 'upon',\n",
              " 'the',\n",
              " 'scent',\n",
              " 'of',\n",
              " 'some',\n",
              " 'new',\n",
              " 'problem',\n",
              " 'i',\n",
              " 'rang',\n",
              " 'the',\n",
              " 'bell',\n",
              " 'and',\n",
              " 'was',\n",
              " 'shown',\n",
              " 'up',\n",
              " 'to',\n",
              " 'the',\n",
              " 'chamber',\n",
              " 'which',\n",
              " 'had',\n",
              " 'formerly',\n",
              " 'been',\n",
              " 'in',\n",
              " 'part',\n",
              " 'my',\n",
              " 'own',\n",
              " 'his',\n",
              " 'manner',\n",
              " 'was',\n",
              " 'not',\n",
              " 'effusive',\n",
              " 'it',\n",
              " 'seldom',\n",
              " 'was',\n",
              " 'but',\n",
              " 'he',\n",
              " 'was',\n",
              " 'glad',\n",
              " 'i',\n",
              " 'think',\n",
              " 'to',\n",
              " 'see',\n",
              " 'me',\n",
              " 'with',\n",
              " 'hardly',\n",
              " 'a',\n",
              " 'word',\n",
              " 'spoken',\n",
              " 'but',\n",
              " 'with',\n",
              " 'a',\n",
              " 'kindly',\n",
              " 'eye',\n",
              " 'he',\n",
              " 'waved',\n",
              " 'me',\n",
              " 'to',\n",
              " 'an',\n",
              " 'armchair',\n",
              " 'threw',\n",
              " 'across',\n",
              " 'his',\n",
              " 'case',\n",
              " 'of',\n",
              " 'cigars',\n",
              " 'and',\n",
              " 'indicated',\n",
              " 'a',\n",
              " 'spirit',\n",
              " 'case',\n",
              " 'and',\n",
              " 'a',\n",
              " 'gasogene',\n",
              " 'in',\n",
              " 'the',\n",
              " 'corner',\n",
              " 'then',\n",
              " 'he',\n",
              " 'stood',\n",
              " 'before',\n",
              " 'the',\n",
              " 'fire',\n",
              " 'and',\n",
              " 'looked',\n",
              " 'me',\n",
              " 'over',\n",
              " 'in',\n",
              " 'his',\n",
              " 'singular',\n",
              " 'introspective',\n",
              " 'fashion',\n",
              " 'wedlock',\n",
              " 'suits',\n",
              " 'you',\n",
              " 'he',\n",
              " 'remarked',\n",
              " 'i',\n",
              " 'think',\n",
              " 'watson',\n",
              " 'that',\n",
              " 'you',\n",
              " 'have',\n",
              " 'put',\n",
              " 'on',\n",
              " 'seven',\n",
              " 'and',\n",
              " 'a',\n",
              " 'half',\n",
              " 'pounds',\n",
              " 'since',\n",
              " 'i',\n",
              " 'saw',\n",
              " 'you',\n",
              " 'seven',\n",
              " 'i',\n",
              " 'answered',\n",
              " 'indeed',\n",
              " 'i',\n",
              " 'should',\n",
              " 'have',\n",
              " 'thought',\n",
              " 'a',\n",
              " 'little',\n",
              " 'more',\n",
              " 'just',\n",
              " 'a',\n",
              " 'trifle',\n",
              " 'more',\n",
              " 'i',\n",
              " 'fancy',\n",
              " 'watson',\n",
              " 'and',\n",
              " 'in',\n",
              " 'practice',\n",
              " 'again',\n",
              " 'i',\n",
              " 'observe',\n",
              " 'you',\n",
              " 'did',\n",
              " 'not',\n",
              " 'tell',\n",
              " 'me',\n",
              " 'that',\n",
              " 'you',\n",
              " 'intended',\n",
              " 'to',\n",
              " 'go',\n",
              " 'into',\n",
              " 'harness',\n",
              " 'then',\n",
              " 'how',\n",
              " 'do',\n",
              " 'you',\n",
              " 'know',\n",
              " 'i',\n",
              " 'see',\n",
              " 'it',\n",
              " 'i',\n",
              " 'deduce',\n",
              " 'it',\n",
              " 'how',\n",
              " 'do',\n",
              " 'i',\n",
              " 'know',\n",
              " 'that',\n",
              " 'you',\n",
              " 'have',\n",
              " 'been',\n",
              " 'getting',\n",
              " 'yourself',\n",
              " 'very',\n",
              " 'wet',\n",
              " 'lately',\n",
              " 'and',\n",
              " 'that',\n",
              " 'you',\n",
              " 'have',\n",
              " 'a',\n",
              " 'most',\n",
              " 'clumsy',\n",
              " 'and',\n",
              " 'careless',\n",
              " 'servant',\n",
              " 'girl',\n",
              " 'my',\n",
              " 'dear',\n",
              " 'holmes',\n",
              " 'said',\n",
              " 'i',\n",
              " 'this',\n",
              " 'is',\n",
              " 'too',\n",
              " 'much',\n",
              " 'you',\n",
              " 'would',\n",
              " 'certainly',\n",
              " 'have',\n",
              " 'been',\n",
              " 'burned',\n",
              " 'had',\n",
              " 'you',\n",
              " 'lived',\n",
              " 'a',\n",
              " ...]"
            ]
          },
          "metadata": {},
          "execution_count": 9
        }
      ]
    },
    {
      "cell_type": "code",
      "metadata": {
        "id": "Cco_ey1LOPrL"
      },
      "source": [
        "unique_words = np.unique(words)\n",
        "unique_word_index = dict((c, i) for i, c in enumerate(unique_words))"
      ],
      "execution_count": 10,
      "outputs": []
    },
    {
      "cell_type": "markdown",
      "metadata": {
        "id": "tRygc9gmQcWt"
      },
      "source": [
        "FEATURE ENGINEERING"
      ]
    },
    {
      "cell_type": "code",
      "metadata": {
        "colab": {
          "base_uri": "https://localhost:8080/"
        },
        "id": "gltBTyUeOroz",
        "outputId": "99c676b4-c01c-4770-a105-9fa534c48fba"
      },
      "source": [
        "WORD_LENGTH = 5\n",
        "prev_words = []\n",
        "next_words = []\n",
        "for i in range(len(words) - WORD_LENGTH):\n",
        "    prev_words.append(words[i:i + WORD_LENGTH])\n",
        "    next_words.append(words[i + WORD_LENGTH])\n",
        "print(prev_words[0])\n",
        "print(next_words[0])"
      ],
      "execution_count": 14,
      "outputs": [
        {
          "output_type": "stream",
          "name": "stdout",
          "text": [
            "['project', 'gutenberg', 's', 'the', 'adventures']\n",
            "of\n"
          ]
        }
      ]
    },
    {
      "cell_type": "code",
      "metadata": {
        "id": "hlQyteoDP3e4"
      },
      "source": [
        "##Now I will create two numpy arrays x for storing the features and y for storing its corresponding label. \n",
        "##I will iterate x and y if the word is available so that the corresponding position becomes 1.\n",
        "X = np.zeros((len(prev_words), WORD_LENGTH, len(unique_words)), dtype=bool)\n",
        "Y = np.zeros((len(next_words), len(unique_words)), dtype=bool)\n",
        "for i, each_words in enumerate(prev_words):\n",
        "    for j, each_word in enumerate(each_words):\n",
        "        X[i, j, unique_word_index[each_word]] = 1\n",
        "    Y[i, unique_word_index[next_words[i]]] = 1\n"
      ],
      "execution_count": 15,
      "outputs": []
    },
    {
      "cell_type": "code",
      "metadata": {
        "colab": {
          "base_uri": "https://localhost:8080/"
        },
        "id": "QcvKHewJQIhR",
        "outputId": "4b95038e-2444-4b16-a37b-d50427ac0e1f"
      },
      "source": [
        "print(X[0][0])"
      ],
      "execution_count": 13,
      "outputs": [
        {
          "output_type": "stream",
          "name": "stdout",
          "text": [
            "[False False False ... False False False]\n"
          ]
        }
      ]
    },
    {
      "cell_type": "markdown",
      "metadata": {
        "id": "jUOmTK-uQZAS"
      },
      "source": [
        "BUILDING THE RECURRENT NEURAL NETWORK"
      ]
    },
    {
      "cell_type": "code",
      "metadata": {
        "colab": {
          "base_uri": "https://localhost:8080/"
        },
        "id": "9tdbJqOrQOJX",
        "outputId": "e2b7b1af-cdad-4d65-f3c2-e3c66a67a71f"
      },
      "source": [
        "model = Sequential()\n",
        "model.add(LSTM(128, input_shape=(WORD_LENGTH, len(unique_words))))\n",
        "model.add(Dense(len(unique_words)))\n",
        "model.add(Activation('softmax'))\n",
        "model.summary()"
      ],
      "execution_count": 17,
      "outputs": [
        {
          "output_type": "stream",
          "name": "stdout",
          "text": [
            "Model: \"sequential_1\"\n",
            "_________________________________________________________________\n",
            "Layer (type)                 Output Shape              Param #   \n",
            "=================================================================\n",
            "lstm_1 (LSTM)                (None, 128)               4264960   \n",
            "_________________________________________________________________\n",
            "dense_1 (Dense)              (None, 8201)              1057929   \n",
            "_________________________________________________________________\n",
            "activation_1 (Activation)    (None, 8201)              0         \n",
            "=================================================================\n",
            "Total params: 5,322,889\n",
            "Trainable params: 5,322,889\n",
            "Non-trainable params: 0\n",
            "_________________________________________________________________\n"
          ]
        }
      ]
    },
    {
      "cell_type": "markdown",
      "metadata": {
        "id": "Ar47XXiBQ28i"
      },
      "source": [
        "TRAINING THE NEXT WORD PREDICTION MODEL"
      ]
    },
    {
      "cell_type": "code",
      "metadata": {
        "colab": {
          "base_uri": "https://localhost:8080/"
        },
        "id": "vp9T2r-lQ-UX",
        "outputId": "64872ce6-0c71-4496-c6f3-e4917a17c448"
      },
      "source": [
        "optimizer = RMSprop(lr=0.01)\n",
        "model.compile(loss='categorical_crossentropy', optimizer=optimizer, metrics=['accuracy'])\n",
        "history = model.fit(X, Y, validation_split=0.05, batch_size=128, epochs=20, shuffle=True).history"
      ],
      "execution_count": 19,
      "outputs": [
        {
          "output_type": "stream",
          "name": "stderr",
          "text": [
            "/usr/local/lib/python3.7/dist-packages/keras/optimizer_v2/optimizer_v2.py:356: UserWarning: The `lr` argument is deprecated, use `learning_rate` instead.\n",
            "  \"The `lr` argument is deprecated, use `learning_rate` instead.\")\n"
          ]
        },
        {
          "output_type": "stream",
          "name": "stdout",
          "text": [
            "Epoch 1/20\n",
            "811/811 [==============================] - 312s 382ms/step - loss: 5.7871 - accuracy: 0.1748 - val_loss: 8.0215 - val_accuracy: 0.1078\n",
            "Epoch 2/20\n",
            "811/811 [==============================] - 297s 367ms/step - loss: 5.4429 - accuracy: 0.2092 - val_loss: 8.0537 - val_accuracy: 0.0990\n",
            "Epoch 3/20\n",
            "811/811 [==============================] - 299s 369ms/step - loss: 5.0997 - accuracy: 0.2488 - val_loss: 8.3657 - val_accuracy: 0.0990\n",
            "Epoch 4/20\n",
            "811/811 [==============================] - 290s 358ms/step - loss: 4.7988 - accuracy: 0.2886 - val_loss: 8.5980 - val_accuracy: 0.0912\n",
            "Epoch 5/20\n",
            "811/811 [==============================] - 289s 357ms/step - loss: 4.5524 - accuracy: 0.3258 - val_loss: 8.7278 - val_accuracy: 0.0877\n",
            "Epoch 6/20\n",
            "811/811 [==============================] - 289s 356ms/step - loss: 4.3455 - accuracy: 0.3629 - val_loss: 9.0025 - val_accuracy: 0.0881\n",
            "Epoch 7/20\n",
            "811/811 [==============================] - 289s 357ms/step - loss: 4.1502 - accuracy: 0.3976 - val_loss: 9.0035 - val_accuracy: 0.0829\n",
            "Epoch 8/20\n",
            "811/811 [==============================] - 294s 362ms/step - loss: 3.9929 - accuracy: 0.4277 - val_loss: 9.0396 - val_accuracy: 0.0774\n",
            "Epoch 9/20\n",
            "811/811 [==============================] - 287s 353ms/step - loss: 3.8855 - accuracy: 0.4535 - val_loss: 9.1722 - val_accuracy: 0.0749\n",
            "Epoch 10/20\n",
            "811/811 [==============================] - 288s 355ms/step - loss: 3.8044 - accuracy: 0.4785 - val_loss: 9.4113 - val_accuracy: 0.0741\n",
            "Epoch 11/20\n",
            "811/811 [==============================] - 286s 353ms/step - loss: 3.7382 - accuracy: 0.4958 - val_loss: 9.1955 - val_accuracy: 0.0701\n",
            "Epoch 12/20\n",
            "811/811 [==============================] - 291s 358ms/step - loss: 3.6913 - accuracy: 0.5145 - val_loss: 9.2635 - val_accuracy: 0.0692\n",
            "Epoch 13/20\n",
            "811/811 [==============================] - 290s 357ms/step - loss: 3.6351 - accuracy: 0.5313 - val_loss: 9.2311 - val_accuracy: 0.0710\n",
            "Epoch 14/20\n",
            "811/811 [==============================] - 291s 359ms/step - loss: 3.5622 - accuracy: 0.5480 - val_loss: 9.3983 - val_accuracy: 0.0661\n",
            "Epoch 15/20\n",
            "811/811 [==============================] - 292s 360ms/step - loss: 3.4939 - accuracy: 0.5609 - val_loss: 9.5353 - val_accuracy: 0.0696\n",
            "Epoch 16/20\n",
            "811/811 [==============================] - 292s 359ms/step - loss: 3.4416 - accuracy: 0.5740 - val_loss: 9.6468 - val_accuracy: 0.0654\n",
            "Epoch 17/20\n",
            "811/811 [==============================] - 289s 357ms/step - loss: 3.3839 - accuracy: 0.5853 - val_loss: 9.6445 - val_accuracy: 0.0615\n",
            "Epoch 18/20\n",
            "811/811 [==============================] - 285s 352ms/step - loss: 3.3275 - accuracy: 0.5953 - val_loss: 9.7795 - val_accuracy: 0.0648\n",
            "Epoch 19/20\n",
            "811/811 [==============================] - 288s 355ms/step - loss: 3.2772 - accuracy: 0.6022 - val_loss: 9.7492 - val_accuracy: 0.0622\n",
            "Epoch 20/20\n",
            "811/811 [==============================] - 290s 358ms/step - loss: 3.2337 - accuracy: 0.6102 - val_loss: 9.9101 - val_accuracy: 0.0633\n"
          ]
        }
      ]
    },
    {
      "cell_type": "code",
      "metadata": {
        "id": "pddyB-3qqG8S"
      },
      "source": [
        "##After successfully training our model, before moving forward to evaluating our model, \n",
        "##it will be better to save this model for our future use.\n",
        "model.save('keras_next_word_model.h5')\n",
        "\n",
        "model = load_model('keras_next_word_model.h5')\n"
      ],
      "execution_count": 20,
      "outputs": []
    },
    {
      "cell_type": "markdown",
      "metadata": {
        "id": "wQImqS_MqffW"
      },
      "source": [
        "EVALUATING THE NEXT WORD PREDICTION MODEL"
      ]
    },
    {
      "cell_type": "code",
      "metadata": {
        "colab": {
          "base_uri": "https://localhost:8080/",
          "height": 313
        },
        "id": "-Hak-wTxqken",
        "outputId": "dc0270cb-e489-4ef0-f8d0-2287afa9901a"
      },
      "source": [
        "plt.plot(history['accuracy'])\n",
        "plt.plot(history['val_accuracy'])\n",
        "plt.title('model accuracy')\n",
        "plt.ylabel('accuracy')\n",
        "plt.xlabel('epoch')\n",
        "plt.legend(['train', 'test'], loc='upper left')"
      ],
      "execution_count": 23,
      "outputs": [
        {
          "output_type": "execute_result",
          "data": {
            "text/plain": [
              "<matplotlib.legend.Legend at 0x7f75e0a30090>"
            ]
          },
          "metadata": {},
          "execution_count": 23
        },
        {
          "output_type": "display_data",
          "data": {
            "image/png": "[encoded data removed]",
            "text/plain": [
              "<Figure size 432x288 with 1 Axes>"
            ]
          },
          "metadata": {
            "needs_background": "light"
          }
        }
      ]
    },
    {
      "cell_type": "code",
      "metadata": {
        "colab": {
          "base_uri": "https://localhost:8080/",
          "height": 313
        },
        "id": "ijYIcm0urY5h",
        "outputId": "caec6334-f64e-483c-91b8-3a53bd892c0e"
      },
      "source": [
        "plt.plot(history['loss'])\n",
        "plt.plot(history['val_loss'])\n",
        "plt.title('model loss')\n",
        "plt.ylabel('loss')\n",
        "plt.xlabel('epoch')\n",
        "plt.legend(['train', 'test'], loc='upper left')"
      ],
      "execution_count": 24,
      "outputs": [
        {
          "output_type": "execute_result",
          "data": {
            "text/plain": [
              "<matplotlib.legend.Legend at 0x7f75e094f410>"
            ]
          },
          "metadata": {},
          "execution_count": 24
        },
        {
          "output_type": "display_data",
          "data": {
            "image/png": "[encoded data removed]",
            "text/plain": [
              "<Figure size 432x288 with 1 Axes>"
            ]
          },
          "metadata": {
            "needs_background": "light"
          }
        }
      ]
    },
    {
      "cell_type": "markdown",
      "metadata": {
        "id": "jg8KmSRsremE"
      },
      "source": [
        "TESTING NEXT WORD PREDICTION MODEL"
      ]
    },
    {
      "cell_type": "code",
      "metadata": {
        "colab": {
          "base_uri": "https://localhost:8080/"
        },
        "id": "lhJp1Y8BriVM",
        "outputId": "fb4ec18b-cfe2-4354-d641-4f3051dbc00f"
      },
      "source": [
        "def prepare_input(text):\n",
        "    x = np.zeros((1, WORD_LENGTH, len(unique_words)))\n",
        "    for t, word in enumerate(text.split()):\n",
        "        print(word)\n",
        "        x[0, t, unique_word_index[word]] = 1\n",
        "    return x\n",
        "prepare_input(\"It is not a lack\".lower())"
      ],
      "execution_count": 25,
      "outputs": [
        {
          "output_type": "stream",
          "name": "stdout",
          "text": [
            "it\n",
            "is\n",
            "not\n",
            "a\n",
            "lack\n"
          ]
        },
        {
          "output_type": "execute_result",
          "data": {
            "text/plain": [
              "array([[[0., 0., 0., ..., 0., 0., 0.],\n",
              "        [0., 0., 0., ..., 0., 0., 0.],\n",
              "        [0., 0., 0., ..., 0., 0., 0.],\n",
              "        [0., 0., 0., ..., 0., 0., 0.],\n",
              "        [0., 0., 0., ..., 0., 0., 0.]]])"
            ]
          },
          "metadata": {},
          "execution_count": 25
        }
      ]
    },
    {
      "cell_type": "code",
      "metadata": {
        "colab": {
          "base_uri": "https://localhost:8080/",
          "height": 35
        },
        "id": "UO7dQIg5r0Zw",
        "outputId": "7bd70c53-6d18-44f7-ee0d-2c2ae2f3722a"
      },
      "source": [
        "unique_words[3010]"
      ],
      "execution_count": 26,
      "outputs": [
        {
          "output_type": "execute_result",
          "data": {
            "application/vnd.google.colaboratory.intrinsic+json": {
              "type": "string"
            },
            "text/plain": [
              "'for'"
            ]
          },
          "metadata": {},
          "execution_count": 26
        }
      ]
    },
    {
      "cell_type": "code",
      "metadata": {
        "colab": {
          "base_uri": "https://localhost:8080/"
        },
        "id": "1tL6evAbsKQN",
        "outputId": "21a8e694-8e69-4ef1-804d-6c099cab9e3c"
      },
      "source": [
        "txt = input('Enter text :')\n",
        "\n",
        "prepare_input(txt.lower())"
      ],
      "execution_count": 27,
      "outputs": [
        {
          "output_type": "stream",
          "name": "stdout",
          "text": [
            "Enter text :Snuffbox of old gold\n",
            "snuffbox\n",
            "of\n",
            "old\n",
            "gold\n"
          ]
        },
        {
          "output_type": "execute_result",
          "data": {
            "text/plain": [
              "array([[[0., 0., 0., ..., 0., 0., 0.],\n",
              "        [0., 0., 0., ..., 0., 0., 0.],\n",
              "        [0., 0., 0., ..., 0., 0., 0.],\n",
              "        [0., 0., 0., ..., 0., 0., 0.],\n",
              "        [0., 0., 0., ..., 0., 0., 0.]]])"
            ]
          },
          "metadata": {},
          "execution_count": 27
        }
      ]
    },
    {
      "cell_type": "code",
      "metadata": {
        "colab": {
          "base_uri": "https://localhost:8080/"
        },
        "id": "BXHZpxJGsrXg",
        "outputId": "c77aa005-47e1-4cd3-9b01-bf4dd0a700e3"
      },
      "source": [
        "txt.split()[-4:]"
      ],
      "execution_count": 28,
      "outputs": [
        {
          "output_type": "execute_result",
          "data": {
            "text/plain": [
              "['Snuffbox', 'of', 'old', 'gold']"
            ]
          },
          "metadata": {},
          "execution_count": 28
        }
      ]
    },
    {
      "cell_type": "code",
      "metadata": {
        "id": "1FssSZZPstBd"
      },
      "source": [
        "def pediction(model,tokenize,txt):\n",
        "    sequence1 = tokenize.tokenize(txt)\n",
        "    sequence = np.array(sequence1)\n",
        "    print(sequence1)\n",
        "    preds= np.argmax(model.predict(sequence1))\n",
        "    pred_wods=\"\"\n",
        "    print(preds)"
      ],
      "execution_count": 29,
      "outputs": []
    },
    {
      "cell_type": "code",
      "metadata": {
        "colab": {
          "base_uri": "https://localhost:8080/"
        },
        "id": "fORyGOrbs0_T",
        "outputId": "6c3403fe-5f90-4b87-d391-6916bb9e0969"
      },
      "source": [
        "prepare_input('The Adventures of Sherlock Holmes'.lower())"
      ],
      "execution_count": 30,
      "outputs": [
        {
          "output_type": "stream",
          "name": "stdout",
          "text": [
            "the\n",
            "adventures\n",
            "of\n",
            "sherlock\n",
            "holmes\n"
          ]
        },
        {
          "output_type": "execute_result",
          "data": {
            "text/plain": [
              "array([[[0., 0., 0., ..., 0., 0., 0.],\n",
              "        [0., 0., 0., ..., 0., 0., 0.],\n",
              "        [0., 0., 0., ..., 0., 0., 0.],\n",
              "        [0., 0., 0., ..., 0., 0., 0.],\n",
              "        [0., 0., 0., ..., 0., 0., 0.]]])"
            ]
          },
          "metadata": {},
          "execution_count": 30
        }
      ]
    },
    {
      "cell_type": "code",
      "metadata": {
        "colab": {
          "base_uri": "https://localhost:8080/",
          "height": 35
        },
        "id": "CFmAnNIptBm8",
        "outputId": "8975d0ef-d716-474a-a84a-3ce5f005a6aa"
      },
      "source": [
        "unique_words[11]"
      ],
      "execution_count": 34,
      "outputs": [
        {
          "output_type": "execute_result",
          "data": {
            "application/vnd.google.colaboratory.intrinsic+json": {
              "type": "string"
            },
            "text/plain": [
              "'12_s_'"
            ]
          },
          "metadata": {},
          "execution_count": 34
        }
      ]
    },
    {
      "cell_type": "code",
      "metadata": {
        "id": "WD6X7HxZtPL9"
      },
      "source": [
        "## Function to return samples\n",
        "\n",
        "def sample(preds, top_n=3):\n",
        "    preds = np.asarray(preds).astype('float64')\n",
        "    preds = np.log(preds)\n",
        "    exp_preds = np.exp(preds)\n",
        "    preds = exp_preds / np.sum(exp_preds)\n",
        "\n",
        "    return heapq.nlargest(top_n, range(len(preds)), preds.take)"
      ],
      "execution_count": 35,
      "outputs": []
    },
    {
      "cell_type": "code",
      "metadata": {
        "id": "tfHXHo-0tXvJ"
      },
      "source": [
        "## Function for next word prediction\n",
        "\n",
        "def predict_completion(text):\n",
        "    original_text = text\n",
        "    generated = text\n",
        "    completion = ''\n",
        "    while True:\n",
        "        x = prepare_input(text)\n",
        "        preds = model.predict(x, verbose=0)[0]\n",
        "        next_index = sample(preds, top_n=1)[0]\n",
        "        next_char = indices_char[next_index]\n",
        "        text = text[1:] + next_char\n",
        "        completion += next_char\n",
        "        \n",
        "        if len(original_text + completion) + 2 > len(original_text) and next_char == ' ':\n",
        "            return completion"
      ],
      "execution_count": 36,
      "outputs": []
    },
    {
      "cell_type": "code",
      "metadata": {
        "id": "smFcFjF7tk9b"
      },
      "source": [
        "## This function is created to predict the next word until space is generated. \n",
        "## It will do this by iterating the input, which will ask our RNN model and extract instances from it. \n",
        "## Now I will modify the above function to predict multiple characters:-\n",
        "\n",
        "def predict_completions(text, n=3):\n",
        "    x = prepare_input(text)\n",
        "    preds = model.predict(x, verbose=0)[0]\n",
        "    next_indices = sample(preds, n)\n",
        "    return [indices_char[idx] + predict_completion(text[1:] + indices_char[idx]) for idx in next_indices]"
      ],
      "execution_count": 37,
      "outputs": []
    }
  ]
}