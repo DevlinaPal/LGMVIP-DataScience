{
  "nbformat": 4,
  "nbformat_minor": 0,
  "metadata": {
    "colab": {
      "name": "MNIST HANDWRITTEN DIGIT CLASSIFICATION PROJECT.ipynb",
      "provenance": []
    },
    "kernelspec": {
      "name": "python3",
      "display_name": "Python 3"
    },
    "language_info": {
      "name": "python"
    }
  },
  "cells": [
    {
      "cell_type": "markdown",
      "metadata": {
        "id": "eINOOKu7SHE5"
      },
      "source": [
        "NAME- DEVLINA PAL\n",
        "\n",
        "LETSGROWMORE INTERNSHIP ADVANCED LEVEL TASK- 1"
      ]
    },
    {
      "cell_type": "code",
      "metadata": {
        "id": "wuHEPuo1GGek"
      },
      "source": [
        "import pandas as pd \n",
        "import numpy as np\n",
        "import matplotlib.pyplot as plt\n",
        "from tensorflow.keras import layers\n",
        "from numpy import unique, argmax\n",
        "import tensorflow as tf\n",
        "from tensorflow import keras\n",
        "import seaborn as sns\n",
        "from tensorflow.keras import datasets"
      ],
      "execution_count": 51,
      "outputs": []
    },
    {
      "cell_type": "code",
      "metadata": {
        "colab": {
          "base_uri": "https://localhost:8080/"
        },
        "id": "syNG3clAYOwT",
        "outputId": "604920e9-a5ca-4fcb-866d-b9985422ac34"
      },
      "source": [
        "##Loading the MNIST Dataset\n",
        "(X_train,y_train),(X_test,y_test) = keras.datasets.mnist.load_data()"
      ],
      "execution_count": 3,
      "outputs": [
        {
          "output_type": "stream",
          "name": "stdout",
          "text": [
            "Downloading data from https://storage.googleapis.com/tensorflow/tf-keras-datasets/mnist.npz\n",
            "11493376/11490434 [==============================] - 0s 0us/step\n",
            "11501568/11490434 [==============================] - 0s 0us/step\n"
          ]
        }
      ]
    },
    {
      "cell_type": "code",
      "metadata": {
        "colab": {
          "base_uri": "https://localhost:8080/"
        },
        "id": "pR7QWBvhY6cH",
        "outputId": "9c636787-2c26-444d-af22-4fb789498fee"
      },
      "source": [
        "print(\"X_train Shape: \", X_train.shape)\n",
        "print(\"Y_train Shape: \", y_train.shape)\n",
        "print(\"X_test Shape: \", X_test.shape)\n",
        "print(\"Y_test Shape: \", y_test.shape)"
      ],
      "execution_count": 5,
      "outputs": [
        {
          "output_type": "stream",
          "name": "stdout",
          "text": [
            "X_train Shape:  (60000, 28, 28)\n",
            "Y_train Shape:  (60000,)\n",
            "X_test Shape:  (10000, 28, 28)\n",
            "Y_test Shape:  (10000,)\n"
          ]
        }
      ]
    },
    {
      "cell_type": "code",
      "metadata": {
        "id": "kIEjSVZpaFJw"
      },
      "source": [
        "#Normalization\n",
        "X_train=X_train/255\n",
        "X_test=X_test/255"
      ],
      "execution_count": 8,
      "outputs": []
    },
    {
      "cell_type": "code",
      "metadata": {
        "id": "S1_L-VSVa1iv"
      },
      "source": [
        "##Reshaping the training and test datasets\n",
        "X_train=X_train.reshape(60000,28,28,1)\n",
        "X_test=X_test.reshape(10000,28,28,1)"
      ],
      "execution_count": 9,
      "outputs": []
    },
    {
      "cell_type": "code",
      "metadata": {
        "colab": {
          "base_uri": "https://localhost:8080/"
        },
        "id": "WvLPSecNa_Uc",
        "outputId": "431ad82b-01b9-4d99-fc7f-bf58467c3d29"
      },
      "source": [
        "len(X_train)"
      ],
      "execution_count": 10,
      "outputs": [
        {
          "output_type": "execute_result",
          "data": {
            "text/plain": [
              "60000"
            ]
          },
          "metadata": {},
          "execution_count": 10
        }
      ]
    },
    {
      "cell_type": "code",
      "metadata": {
        "colab": {
          "base_uri": "https://localhost:8080/"
        },
        "id": "PSs6bgKhbdPs",
        "outputId": "d7d7621e-d829-43a2-bb98-395195d9d1cf"
      },
      "source": [
        "len(X_test)"
      ],
      "execution_count": 11,
      "outputs": [
        {
          "output_type": "execute_result",
          "data": {
            "text/plain": [
              "10000"
            ]
          },
          "metadata": {},
          "execution_count": 11
        }
      ]
    },
    {
      "cell_type": "code",
      "metadata": {
        "id": "nXsFdojobwEj"
      },
      "source": [
        "## Training model using CNN\n",
        "model=keras.models.Sequential([\n",
        "    keras.layers.Conv2D(filters=32,kernel_size=3,activation='relu',input_shape=[28,28,1]),\n",
        "    keras.layers.MaxPooling2D(pool_size=2,strides=2),\n",
        "    keras.layers.Conv2D(filters=32,kernel_size=3,activation='relu'),\n",
        "    keras.layers.MaxPooling2D(pool_size=2,strides=2),\n",
        "    keras.layers.Flatten(),\n",
        "    keras.layers.Dense(128,activation='relu'),\n",
        "    keras.layers.Dense(10,activation='softmax')\n",
        "])"
      ],
      "execution_count": 13,
      "outputs": []
    },
    {
      "cell_type": "code",
      "metadata": {
        "colab": {
          "base_uri": "https://localhost:8080/"
        },
        "id": "Hqc_cBFHfQgi",
        "outputId": "5ec9a377-f186-45f4-8bf0-9889f527585f"
      },
      "source": [
        "model.compile(optimizer='adam',loss='sparse_categorical_crossentropy',metrics=['accuracy'])\n",
        "model.fit(X_train,y_train,epochs=10,batch_size=512)"
      ],
      "execution_count": 15,
      "outputs": [
        {
          "output_type": "stream",
          "name": "stdout",
          "text": [
            "Epoch 1/10\n",
            "118/118 [==============================] - 33s 274ms/step - loss: 0.5053 - accuracy: 0.8672\n",
            "Epoch 2/10\n",
            "118/118 [==============================] - 32s 274ms/step - loss: 0.1063 - accuracy: 0.9681\n",
            "Epoch 3/10\n",
            "118/118 [==============================] - 32s 273ms/step - loss: 0.0737 - accuracy: 0.9779\n",
            "Epoch 4/10\n",
            "118/118 [==============================] - 32s 273ms/step - loss: 0.0576 - accuracy: 0.9820\n",
            "Epoch 5/10\n",
            "118/118 [==============================] - 32s 273ms/step - loss: 0.0480 - accuracy: 0.9855\n",
            "Epoch 6/10\n",
            "118/118 [==============================] - 32s 273ms/step - loss: 0.0421 - accuracy: 0.9870\n",
            "Epoch 7/10\n",
            "118/118 [==============================] - 32s 273ms/step - loss: 0.0361 - accuracy: 0.9890\n",
            "Epoch 8/10\n",
            "118/118 [==============================] - 32s 272ms/step - loss: 0.0309 - accuracy: 0.9906\n",
            "Epoch 9/10\n",
            "118/118 [==============================] - 32s 273ms/step - loss: 0.0286 - accuracy: 0.9911\n",
            "Epoch 10/10\n",
            "118/118 [==============================] - 32s 273ms/step - loss: 0.0251 - accuracy: 0.9919\n"
          ]
        },
        {
          "output_type": "execute_result",
          "data": {
            "text/plain": [
              "<keras.callbacks.History at 0x7f60fb5b4490>"
            ]
          },
          "metadata": {},
          "execution_count": 15
        }
      ]
    },
    {
      "cell_type": "code",
      "metadata": {
        "colab": {
          "base_uri": "https://localhost:8080/"
        },
        "id": "CoW9LmP4hqBL",
        "outputId": "9804a482-e608-487f-e461-2b13ab0e8a61"
      },
      "source": [
        "#Model Comiled Successfully, Now Testing\n",
        "model.evaluate(X_test,y_test,verbose=5)\n"
      ],
      "execution_count": 21,
      "outputs": [
        {
          "output_type": "execute_result",
          "data": {
            "text/plain": [
              "[0.03936771675944328, 0.9876999855041504]"
            ]
          },
          "metadata": {},
          "execution_count": 21
        }
      ]
    },
    {
      "cell_type": "code",
      "metadata": {
        "colab": {
          "base_uri": "https://localhost:8080/"
        },
        "id": "FMMWGmfnicoK",
        "outputId": "2c16260e-f014-47d7-9b4c-1bb7fefd8a61"
      },
      "source": [
        "probability_model = tf.keras.Sequential([ model, tf.keras.layers.Softmax() ])\n",
        "probability_model(X_test[:5])"
      ],
      "execution_count": 18,
      "outputs": [
        {
          "output_type": "execute_result",
          "data": {
            "text/plain": [
              "<tf.Tensor: shape=(5, 10), dtype=float32, numpy=\n",
              "array([[0.08533695, 0.08533695, 0.08533757, 0.08533759, 0.08533695,\n",
              "        0.08533695, 0.08533695, 0.23196615, 0.08533695, 0.08533701],\n",
              "       [0.08533678, 0.08533676, 0.23196916, 0.08533675, 0.08533675,\n",
              "        0.08533675, 0.08533675, 0.08533675, 0.08533675, 0.08533675],\n",
              "       [0.08533944, 0.23193283, 0.08534224, 0.08533905, 0.08534514,\n",
              "        0.0853391 , 0.08533911, 0.08534063, 0.08534342, 0.08533908],\n",
              "       [0.2319687 , 0.08533679, 0.0853368 , 0.08533679, 0.08533679,\n",
              "        0.08533679, 0.08533706, 0.08533679, 0.08533679, 0.08533679],\n",
              "       [0.08533798, 0.08533804, 0.08533797, 0.08533797, 0.23194972,\n",
              "        0.08533797, 0.08533798, 0.08533876, 0.08533803, 0.0853455 ]],\n",
              "      dtype=float32)>"
            ]
          },
          "metadata": {},
          "execution_count": 18
        }
      ]
    },
    {
      "cell_type": "code",
      "metadata": {
        "id": "kkTO8CoRijVm"
      },
      "source": [
        "Y_pred=[]\n",
        "pred=model.predict(X_test)\n",
        "for element in pred:\n",
        "    Y_pred.append(np.argmax(element))"
      ],
      "execution_count": 22,
      "outputs": []
    },
    {
      "cell_type": "code",
      "metadata": {
        "colab": {
          "base_uri": "https://localhost:8080/"
        },
        "id": "hBk-uZ69jgKA",
        "outputId": "63ad19c1-015f-4bce-d4e5-48fc48d9f908"
      },
      "source": [
        "Y_pred=np.array(Y_pred)\n",
        "Y_pred"
      ],
      "execution_count": 23,
      "outputs": [
        {
          "output_type": "execute_result",
          "data": {
            "text/plain": [
              "array([7, 2, 1, ..., 4, 5, 6])"
            ]
          },
          "metadata": {},
          "execution_count": 23
        }
      ]
    },
    {
      "cell_type": "code",
      "metadata": {
        "colab": {
          "base_uri": "https://localhost:8080/"
        },
        "id": "pgJFR98Zj1Wp",
        "outputId": "3ca08f06-c333-4477-a31a-de3d4fe8de2e"
      },
      "source": [
        "y_test[:5]"
      ],
      "execution_count": 26,
      "outputs": [
        {
          "output_type": "execute_result",
          "data": {
            "text/plain": [
              "array([7, 2, 1, 0, 4], dtype=uint8)"
            ]
          },
          "metadata": {},
          "execution_count": 26
        }
      ]
    },
    {
      "cell_type": "code",
      "metadata": {
        "colab": {
          "base_uri": "https://localhost:8080/"
        },
        "id": "S6bYyhGsj7iG",
        "outputId": "5c3c4836-44b8-41a8-c631-ec8c7aff6b5f"
      },
      "source": [
        "from sklearn.metrics import confusion_matrix\n",
        "cm=confusion_matrix(y_test,Y_pred)\n",
        "cm"
      ],
      "execution_count": 28,
      "outputs": [
        {
          "output_type": "execute_result",
          "data": {
            "text/plain": [
              "array([[ 977,    0,    0,    0,    0,    0,    1,    1,    1,    0],\n",
              "       [   0, 1132,    2,    0,    0,    0,    0,    0,    1,    0],\n",
              "       [   2,    1, 1020,    3,    0,    0,    0,    1,    5,    0],\n",
              "       [   1,    0,    2, 1001,    0,    2,    0,    0,    4,    0],\n",
              "       [   2,    0,    1,    0,  960,    0,    4,    0,    3,   12],\n",
              "       [   2,    0,    1,    6,    0,  876,    1,    1,    3,    2],\n",
              "       [   5,    2,    1,    0,    1,    4,  943,    0,    2,    0],\n",
              "       [   0,    4,    8,    2,    0,    0,    0, 1008,    1,    5],\n",
              "       [   4,    0,    2,    0,    0,    1,    0,    0,  966,    1],\n",
              "       [   1,    3,    0,    1,    3,    1,    0,    1,    5,  994]])"
            ]
          },
          "metadata": {},
          "execution_count": 28
        }
      ]
    },
    {
      "cell_type": "code",
      "metadata": {
        "id": "sPU0doxtkU_W"
      },
      "source": [
        "X_test=X_test.reshape(10000,28,28)"
      ],
      "execution_count": 29,
      "outputs": []
    },
    {
      "cell_type": "code",
      "metadata": {
        "colab": {
          "base_uri": "https://localhost:8080/",
          "height": 1000
        },
        "id": "FcuveECQnNX0",
        "outputId": "c49d443f-d35a-4fef-fe32-fc188a084e8b"
      },
      "source": [
        "for i in range(0,10):\n",
        "    plt.figure(figsize=(30,30))\n",
        "    plt.subplot(1,10,i+1)\n",
        "    plt.imshow(X_test[i])\n",
        "    plt.xlabel(Y_pred[i])\n",
        "    plt.title(y_test[i])"
      ],
      "execution_count": 49,
      "outputs": [
        {
          "output_type": "display_data",
          "data": {
            "image/png": "[encoded data removed]",
            "text/plain": [
              "<Figure size 2160x2160 with 1 Axes>"
            ]
          },
          "metadata": {
            "needs_background": "light"
          }
        },
        {
          "output_type": "display_data",
          "data": {
            "image/png": "[encoded data removed]",
            "text/plain": [
              "<Figure size 2160x2160 with 1 Axes>"
            ]
          },
          "metadata": {
            "needs_background": "light"
          }
        },
        {
          "output_type": "display_data",
          "data": {
            "image/png": "[encoded data removed]",
            "text/plain": [
              "<Figure size 2160x2160 with 1 Axes>"
            ]
          },
          "metadata": {
            "needs_background": "light"
          }
        },
        {
          "output_type": "display_data",
          "data": {
            "image/png": "[encoded data removed]",
            "text/plain": [
              "<Figure size 2160x2160 with 1 Axes>"
            ]
          },
          "metadata": {
            "needs_background": "light"
          }
        },
        {
          "output_type": "display_data",
          "data": {
            "image/png": "[encoded data removed]",
            "text/plain": [
              "<Figure size 2160x2160 with 1 Axes>"
            ]
          },
          "metadata": {
            "needs_background": "light"
          }
        },
        {
          "output_type": "display_data",
          "data": {
            "image/png": "[encoded data removed]",
            "text/plain": [
              "<Figure size 2160x2160 with 1 Axes>"
            ]
          },
          "metadata": {
            "needs_background": "light"
          }
        },
        {
          "output_type": "display_data",
          "data": {
            "image/png": "[encoded data removed]",
            "text/plain": [
              "<Figure size 2160x2160 with 1 Axes>"
            ]
          },
          "metadata": {
            "needs_background": "light"
          }
        },
        {
          "output_type": "display_data",
          "data": {
            "image/png": "[encoded data removed]",
            "text/plain": [
              "<Figure size 2160x2160 with 1 Axes>"
            ]
          },
          "metadata": {
            "needs_background": "light"
          }
        },
        {
          "output_type": "display_data",
          "data": {
            "image/png": "[encoded data removed]",
            "text/plain": [
              "<Figure size 2160x2160 with 1 Axes>"
            ]
          },
          "metadata": {
            "needs_background": "light"
          }
        },
        {
          "output_type": "display_data",
          "data": {
            "image/png": "[encoded data removed]",
            "text/plain": [
              "<Figure size 2160x2160 with 1 Axes>"
            ]
          },
          "metadata": {
            "needs_background": "light"
          }
        }
      ]
    },
    {
      "cell_type": "code",
      "metadata": {
        "colab": {
          "base_uri": "https://localhost:8080/",
          "height": 668
        },
        "id": "qWzpJmcloaYh",
        "outputId": "d9146938-a3f5-4f9a-9e4a-29a49de20a10"
      },
      "source": [
        "actual=y_test\n",
        "predicted=Y_pred\n",
        "final=pd.DataFrame({'Actual' :actual,'Predicted':predicted})\n",
        "final.head(20)"
      ],
      "execution_count": 47,
      "outputs": [
        {
          "output_type": "execute_result",
          "data": {
            "text/html": [
              "<div>\n",
              "<style scoped>\n",
              "    .dataframe tbody tr th:only-of-type {\n",
              "        vertical-align: middle;\n",
              "    }\n",
              "\n",
              "    .dataframe tbody tr th {\n",
              "        vertical-align: top;\n",
              "    }\n",
              "\n",
              "    .dataframe thead th {\n",
              "        text-align: right;\n",
              "    }\n",
              "</style>\n",
              "<table border=\"1\" class=\"dataframe\">\n",
              "  <thead>\n",
              "    <tr style=\"text-align: right;\">\n",
              "      <th></th>\n",
              "      <th>Actual</th>\n",
              "      <th>Predicted</th>\n",
              "    </tr>\n",
              "  </thead>\n",
              "  <tbody>\n",
              "    <tr>\n",
              "      <th>0</th>\n",
              "      <td>7</td>\n",
              "      <td>7</td>\n",
              "    </tr>\n",
              "    <tr>\n",
              "      <th>1</th>\n",
              "      <td>2</td>\n",
              "      <td>2</td>\n",
              "    </tr>\n",
              "    <tr>\n",
              "      <th>2</th>\n",
              "      <td>1</td>\n",
              "      <td>1</td>\n",
              "    </tr>\n",
              "    <tr>\n",
              "      <th>3</th>\n",
              "      <td>0</td>\n",
              "      <td>0</td>\n",
              "    </tr>\n",
              "    <tr>\n",
              "      <th>4</th>\n",
              "      <td>4</td>\n",
              "      <td>4</td>\n",
              "    </tr>\n",
              "    <tr>\n",
              "      <th>5</th>\n",
              "      <td>1</td>\n",
              "      <td>1</td>\n",
              "    </tr>\n",
              "    <tr>\n",
              "      <th>6</th>\n",
              "      <td>4</td>\n",
              "      <td>4</td>\n",
              "    </tr>\n",
              "    <tr>\n",
              "      <th>7</th>\n",
              "      <td>9</td>\n",
              "      <td>9</td>\n",
              "    </tr>\n",
              "    <tr>\n",
              "      <th>8</th>\n",
              "      <td>5</td>\n",
              "      <td>5</td>\n",
              "    </tr>\n",
              "    <tr>\n",
              "      <th>9</th>\n",
              "      <td>9</td>\n",
              "      <td>9</td>\n",
              "    </tr>\n",
              "    <tr>\n",
              "      <th>10</th>\n",
              "      <td>0</td>\n",
              "      <td>0</td>\n",
              "    </tr>\n",
              "    <tr>\n",
              "      <th>11</th>\n",
              "      <td>6</td>\n",
              "      <td>6</td>\n",
              "    </tr>\n",
              "    <tr>\n",
              "      <th>12</th>\n",
              "      <td>9</td>\n",
              "      <td>9</td>\n",
              "    </tr>\n",
              "    <tr>\n",
              "      <th>13</th>\n",
              "      <td>0</td>\n",
              "      <td>0</td>\n",
              "    </tr>\n",
              "    <tr>\n",
              "      <th>14</th>\n",
              "      <td>1</td>\n",
              "      <td>1</td>\n",
              "    </tr>\n",
              "    <tr>\n",
              "      <th>15</th>\n",
              "      <td>5</td>\n",
              "      <td>5</td>\n",
              "    </tr>\n",
              "    <tr>\n",
              "      <th>16</th>\n",
              "      <td>9</td>\n",
              "      <td>9</td>\n",
              "    </tr>\n",
              "    <tr>\n",
              "      <th>17</th>\n",
              "      <td>7</td>\n",
              "      <td>7</td>\n",
              "    </tr>\n",
              "    <tr>\n",
              "      <th>18</th>\n",
              "      <td>3</td>\n",
              "      <td>8</td>\n",
              "    </tr>\n",
              "    <tr>\n",
              "      <th>19</th>\n",
              "      <td>4</td>\n",
              "      <td>4</td>\n",
              "    </tr>\n",
              "  </tbody>\n",
              "</table>\n",
              "</div>"
            ],
            "text/plain": [
              "    Actual  Predicted\n",
              "0        7          7\n",
              "1        2          2\n",
              "2        1          1\n",
              "3        0          0\n",
              "4        4          4\n",
              "5        1          1\n",
              "6        4          4\n",
              "7        9          9\n",
              "8        5          5\n",
              "9        9          9\n",
              "10       0          0\n",
              "11       6          6\n",
              "12       9          9\n",
              "13       0          0\n",
              "14       1          1\n",
              "15       5          5\n",
              "16       9          9\n",
              "17       7          7\n",
              "18       3          8\n",
              "19       4          4"
            ]
          },
          "metadata": {},
          "execution_count": 47
        }
      ]
    },
    {
      "cell_type": "code",
      "metadata": {
        "colab": {
          "base_uri": "https://localhost:8080/",
          "height": 894
        },
        "id": "esdaVtmwqWu-",
        "outputId": "70239cfb-92df-4a90-a2ef-5876c5bed7ea"
      },
      "source": [
        "plt.figure(figsize=(15,15))\n",
        "sns.heatmap(cm,cmap=\"YlGnBu\",annot=True,fmt='d')\n",
        "plt.xlabel('Predicted')\n",
        "plt.ylabel('Actual')"
      ],
      "execution_count": 55,
      "outputs": [
        {
          "output_type": "execute_result",
          "data": {
            "text/plain": [
              "Text(114.0, 0.5, 'Actual')"
            ]
          },
          "metadata": {},
          "execution_count": 55
        },
        {
          "output_type": "display_data",
          "data": {
            "image/png": "[encoded data removed]",
            "text/plain": [
              "<Figure size 1080x1080 with 2 Axes>"
            ]
          },
          "metadata": {
            "needs_background": "light"
          }
        }
      ]
    }
  ]
}